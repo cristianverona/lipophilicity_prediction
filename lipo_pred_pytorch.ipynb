{
 "cells": [
  {
   "cell_type": "markdown",
   "metadata": {},
   "source": [
    "# [2/2] Molecular lipophilicity prediction with PyTorch\n",
    "\n",
    "**NOTE** <br>\n",
    "This dataset has already been explored, and feature engineering has been performed in the previous notebook \"lipo_pred_ML\". The purpose of this notebook is to utilize the PyTorch framework to construct a simple neural network. Following that, I will compare the metrics with those obtained from the previous best Random Forest model."
   ]
  },
  {
   "cell_type": "code",
   "execution_count": 1,
   "metadata": {},
   "outputs": [],
   "source": [
    "# importing libraries\n",
    "import numpy as np \n",
    "import pandas as pd\n",
    "import matplotlib.pyplot as plt\n",
    "import seaborn as sns\n",
    "import warnings\n",
    "#warnings.filterwarnings(\"ignore\")"
   ]
  },
  {
   "cell_type": "code",
   "execution_count": 2,
   "metadata": {},
   "outputs": [
    {
     "data": {
      "text/html": [
       "<div>\n",
       "<style scoped>\n",
       "    .dataframe tbody tr th:only-of-type {\n",
       "        vertical-align: middle;\n",
       "    }\n",
       "\n",
       "    .dataframe tbody tr th {\n",
       "        vertical-align: top;\n",
       "    }\n",
       "\n",
       "    .dataframe thead th {\n",
       "        text-align: right;\n",
       "    }\n",
       "</style>\n",
       "<table border=\"1\" class=\"dataframe\">\n",
       "  <thead>\n",
       "    <tr style=\"text-align: right;\">\n",
       "      <th></th>\n",
       "      <th>smiles</th>\n",
       "      <th>logP</th>\n",
       "      <th>mol</th>\n",
       "      <th>num_of_C_atoms</th>\n",
       "      <th>num_of_O_atoms</th>\n",
       "      <th>num_of_N_atoms</th>\n",
       "      <th>num_of_S_atoms</th>\n",
       "      <th>num_of_Cl_atoms</th>\n",
       "      <th>num_of_P_atoms</th>\n",
       "      <th>num_of_F_atoms</th>\n",
       "      <th>num_of_I_atoms</th>\n",
       "      <th>num_of_Br_atoms</th>\n",
       "      <th>num_of_atoms</th>\n",
       "      <th>tpsa</th>\n",
       "      <th>mol_w</th>\n",
       "      <th>num_valence_electrons</th>\n",
       "      <th>num_heteroatoms</th>\n",
       "      <th>num_H_donors</th>\n",
       "      <th>num_H_acceptors</th>\n",
       "    </tr>\n",
       "  </thead>\n",
       "  <tbody>\n",
       "    <tr>\n",
       "      <th>0</th>\n",
       "      <td>C[C@H]([C@@H](C)Cl)Cl</td>\n",
       "      <td>2.3</td>\n",
       "      <td>&lt;rdkit.Chem.rdchem.Mol object at 0x1409af880&gt;</td>\n",
       "      <td>4</td>\n",
       "      <td>0</td>\n",
       "      <td>0</td>\n",
       "      <td>0</td>\n",
       "      <td>2</td>\n",
       "      <td>0</td>\n",
       "      <td>0</td>\n",
       "      <td>0</td>\n",
       "      <td>0</td>\n",
       "      <td>14</td>\n",
       "      <td>0.00</td>\n",
       "      <td>126.000306</td>\n",
       "      <td>38</td>\n",
       "      <td>2</td>\n",
       "      <td>0</td>\n",
       "      <td>0</td>\n",
       "    </tr>\n",
       "    <tr>\n",
       "      <th>1</th>\n",
       "      <td>C(C=CBr)N</td>\n",
       "      <td>0.3</td>\n",
       "      <td>&lt;rdkit.Chem.rdchem.Mol object at 0x1409ae920&gt;</td>\n",
       "      <td>3</td>\n",
       "      <td>0</td>\n",
       "      <td>1</td>\n",
       "      <td>0</td>\n",
       "      <td>0</td>\n",
       "      <td>0</td>\n",
       "      <td>0</td>\n",
       "      <td>0</td>\n",
       "      <td>1</td>\n",
       "      <td>11</td>\n",
       "      <td>26.02</td>\n",
       "      <td>134.968361</td>\n",
       "      <td>30</td>\n",
       "      <td>2</td>\n",
       "      <td>1</td>\n",
       "      <td>1</td>\n",
       "    </tr>\n",
       "    <tr>\n",
       "      <th>2</th>\n",
       "      <td>CCC(CO)Br</td>\n",
       "      <td>1.3</td>\n",
       "      <td>&lt;rdkit.Chem.rdchem.Mol object at 0x1409aea40&gt;</td>\n",
       "      <td>4</td>\n",
       "      <td>1</td>\n",
       "      <td>0</td>\n",
       "      <td>0</td>\n",
       "      <td>0</td>\n",
       "      <td>0</td>\n",
       "      <td>0</td>\n",
       "      <td>0</td>\n",
       "      <td>1</td>\n",
       "      <td>15</td>\n",
       "      <td>20.23</td>\n",
       "      <td>151.983677</td>\n",
       "      <td>38</td>\n",
       "      <td>2</td>\n",
       "      <td>1</td>\n",
       "      <td>1</td>\n",
       "    </tr>\n",
       "    <tr>\n",
       "      <th>3</th>\n",
       "      <td>[13CH3][13CH2][13CH2][13CH2][13CH2][13CH2]O</td>\n",
       "      <td>2.0</td>\n",
       "      <td>&lt;rdkit.Chem.rdchem.Mol object at 0x1409aeaa0&gt;</td>\n",
       "      <td>6</td>\n",
       "      <td>1</td>\n",
       "      <td>0</td>\n",
       "      <td>0</td>\n",
       "      <td>0</td>\n",
       "      <td>0</td>\n",
       "      <td>0</td>\n",
       "      <td>0</td>\n",
       "      <td>0</td>\n",
       "      <td>21</td>\n",
       "      <td>20.23</td>\n",
       "      <td>108.124594</td>\n",
       "      <td>44</td>\n",
       "      <td>1</td>\n",
       "      <td>1</td>\n",
       "      <td>1</td>\n",
       "    </tr>\n",
       "    <tr>\n",
       "      <th>4</th>\n",
       "      <td>CCCOCCP</td>\n",
       "      <td>0.6</td>\n",
       "      <td>&lt;rdkit.Chem.rdchem.Mol object at 0x1409aeb00&gt;</td>\n",
       "      <td>5</td>\n",
       "      <td>1</td>\n",
       "      <td>0</td>\n",
       "      <td>0</td>\n",
       "      <td>0</td>\n",
       "      <td>1</td>\n",
       "      <td>0</td>\n",
       "      <td>0</td>\n",
       "      <td>0</td>\n",
       "      <td>20</td>\n",
       "      <td>9.23</td>\n",
       "      <td>120.070402</td>\n",
       "      <td>44</td>\n",
       "      <td>2</td>\n",
       "      <td>0</td>\n",
       "      <td>1</td>\n",
       "    </tr>\n",
       "  </tbody>\n",
       "</table>\n",
       "</div>"
      ],
      "text/plain": [
       "                                        smiles  logP  \\\n",
       "0                        C[C@H]([C@@H](C)Cl)Cl   2.3   \n",
       "1                                    C(C=CBr)N   0.3   \n",
       "2                                    CCC(CO)Br   1.3   \n",
       "3  [13CH3][13CH2][13CH2][13CH2][13CH2][13CH2]O   2.0   \n",
       "4                                      CCCOCCP   0.6   \n",
       "\n",
       "                                             mol  num_of_C_atoms  \\\n",
       "0  <rdkit.Chem.rdchem.Mol object at 0x1409af880>               4   \n",
       "1  <rdkit.Chem.rdchem.Mol object at 0x1409ae920>               3   \n",
       "2  <rdkit.Chem.rdchem.Mol object at 0x1409aea40>               4   \n",
       "3  <rdkit.Chem.rdchem.Mol object at 0x1409aeaa0>               6   \n",
       "4  <rdkit.Chem.rdchem.Mol object at 0x1409aeb00>               5   \n",
       "\n",
       "   num_of_O_atoms  num_of_N_atoms  num_of_S_atoms  num_of_Cl_atoms  \\\n",
       "0               0               0               0                2   \n",
       "1               0               1               0                0   \n",
       "2               1               0               0                0   \n",
       "3               1               0               0                0   \n",
       "4               1               0               0                0   \n",
       "\n",
       "   num_of_P_atoms  num_of_F_atoms  num_of_I_atoms  num_of_Br_atoms  \\\n",
       "0               0               0               0                0   \n",
       "1               0               0               0                1   \n",
       "2               0               0               0                1   \n",
       "3               0               0               0                0   \n",
       "4               1               0               0                0   \n",
       "\n",
       "   num_of_atoms   tpsa       mol_w  num_valence_electrons  num_heteroatoms  \\\n",
       "0            14   0.00  126.000306                     38                2   \n",
       "1            11  26.02  134.968361                     30                2   \n",
       "2            15  20.23  151.983677                     38                2   \n",
       "3            21  20.23  108.124594                     44                1   \n",
       "4            20   9.23  120.070402                     44                2   \n",
       "\n",
       "   num_H_donors  num_H_acceptors  \n",
       "0             0                0  \n",
       "1             1                1  \n",
       "2             1                1  \n",
       "3             1                1  \n",
       "4             0                1  "
      ]
     },
     "execution_count": 2,
     "metadata": {},
     "output_type": "execute_result"
    }
   ],
   "source": [
    "# importing the dataset\n",
    "df = pd.read_csv('df.csv')\n",
    "df.head()"
   ]
  },
  {
   "cell_type": "markdown",
   "metadata": {},
   "source": [
    "Let's preprocess the dataset:"
   ]
  },
  {
   "cell_type": "code",
   "execution_count": 4,
   "metadata": {},
   "outputs": [],
   "source": [
    "# importing libraries\n",
    "from sklearn.model_selection import train_test_split\n",
    "from sklearn.preprocessing import StandardScaler\n",
    "\n",
    "# Remove 'mol' and 'smiles' columns from df\n",
    "df = df.drop(columns=['mol', 'smiles'])\n",
    "\n",
    "# Split the dataframe in features (X) and target (y)\n",
    "X = df.drop(columns=['logP'])\n",
    "y = df['logP']\n",
    "\n",
    "# Let's train-test split\n",
    "X_train, X_test, y_train, y_test = train_test_split(X, y, test_size=0.1, random_state=42)\n",
    "\n",
    "\n",
    "# StandardScaler definition\n",
    "scaler = StandardScaler()\n",
    "\n",
    "# Fittin the scaler on X_train\n",
    "X_train = scaler.fit_transform(X_train)\n",
    "\n",
    "# Transforming the X_test\n",
    "X_test = scaler.transform(X_test)"
   ]
  },
  {
   "cell_type": "markdown",
   "metadata": {},
   "source": [
    "PyTorch utilizes tensors instead of simple arrays. Therefore, numpy arrays need to be converted into tensors:"
   ]
  },
  {
   "cell_type": "code",
   "execution_count": 5,
   "metadata": {},
   "outputs": [
    {
     "data": {
      "text/plain": [
       "(torch.Size([13149, 16]),\n",
       " torch.Size([13149, 1]),\n",
       " torch.Size([1461, 16]),\n",
       " torch.Size([1461, 1]))"
      ]
     },
     "execution_count": 5,
     "metadata": {},
     "output_type": "execute_result"
    }
   ],
   "source": [
    "# Importing library\n",
    "import torch\n",
    "\n",
    "# Device configuration\n",
    "device = torch.device('cuda' if torch.cuda.is_available() else 'cpu')\n",
    "\n",
    "# Converting arrays into tensors\n",
    "X_train_tensor = torch.tensor(X_train, dtype=torch.float32)\n",
    "y_train_tensor = torch.tensor(y_train.values, dtype=torch.float32).view(-1, 1)\n",
    "X_test_tensor = torch.tensor(X_test, dtype=torch.float32)\n",
    "y_test_tensor = torch.tensor(y_test.values, dtype=torch.float32).view(-1, 1)\n",
    "\n",
    "# Checking the shape\n",
    "X_train_tensor.shape, y_train_tensor.shape, X_test_tensor.shape, y_test_tensor.shape"
   ]
  },
  {
   "cell_type": "markdown",
   "metadata": {},
   "source": [
    "In order to improve performance, it's a good practice to define a Dataset class and DataLoaders:"
   ]
  },
  {
   "cell_type": "code",
   "execution_count": 22,
   "metadata": {},
   "outputs": [],
   "source": [
    "# Importing libraries\n",
    "from torch.utils.data import Dataset, DataLoader\n",
    "\n",
    "# Defining the dataset\n",
    "class LipoDataset(Dataset):\n",
    "\n",
    "    def __init__(self, X_tensor, y_tensor):\n",
    "     \n",
    "        self.x_data = X_tensor\n",
    "        self.y_data = y_tensor\n",
    "\n",
    "    # support indexing such that dataset[i] can be used to get i-th sample\n",
    "    def __getitem__(self, index):\n",
    "        return self.x_data[index], self.y_data[index]\n",
    "\n",
    "    # we can call len(dataset) to return the size\n",
    "    def __len__(self):\n",
    "        \n",
    "        return self.y_data.shape[0]\n",
    "\n",
    "train_dataset = LipoDataset(X_train_tensor, y_train_tensor)\n",
    "test_dataset = LipoDataset(X_test_tensor, y_test_tensor)\n",
    "\n",
    "train_loader = DataLoader(dataset=train_dataset, batch_size=10, shuffle=True, num_workers=0)\n",
    "test_loader = DataLoader(dataset=test_dataset, batch_size=10, shuffle=False, num_workers=0)"
   ]
  },
  {
   "cell_type": "markdown",
   "metadata": {},
   "source": [
    "Let's define the hyperparameters of the model and its architecture. For this task, I will opt for a simple fully connected neural network with 2 hidden layers, followed by the ReLU activation function:"
   ]
  },
  {
   "cell_type": "code",
   "execution_count": 23,
   "metadata": {},
   "outputs": [],
   "source": [
    "import torch.nn as nn\n",
    "import torch.nn.functional as F\n",
    "\n",
    "# Hyper-parameters \n",
    "num_epochs = 50\n",
    "batch_size = 4\n",
    "learning_rate = 0.001\n",
    "n_input_features = 16\n",
    "\n",
    "class NeuralNetwork(nn.Module):\n",
    "    def __init__(self, n_input_features):\n",
    "        super(NeuralNetwork, self).__init__()\n",
    "        self.fc1 = nn.Linear(n_input_features, 120)\n",
    "        self.fc2 = nn.Linear(120, 84)\n",
    "        self.fc3 = nn.Linear(84, 1)\n",
    "\n",
    "    def forward(self, x): \n",
    "        x = F.relu(self.fc1(x)) \n",
    "        x = F.relu(self.fc2(x)) \n",
    "        x = self.fc3(x)                       \n",
    "        return x\n",
    "\n",
    "# Initializing the model\n",
    "model = NeuralNetwork(n_input_features).to(device)\n",
    "\n",
    "# Defining the loss criterion and the optimizer\n",
    "criterion = nn.MSELoss()\n",
    "optimizer = torch.optim.Adam(model.parameters(), lr=learning_rate)"
   ]
  },
  {
   "cell_type": "markdown",
   "metadata": {},
   "source": [
    "The following funtions are useful to calculate the error metrics:"
   ]
  },
  {
   "cell_type": "code",
   "execution_count": 24,
   "metadata": {},
   "outputs": [],
   "source": [
    "def MAE(true, predicted):\n",
    "    return torch.mean(torch.abs(true - predicted))\n",
    "\n",
    "def RMSE(true, predicted):\n",
    "    return torch.sqrt(torch.mean((true - predicted) ** 2))\n"
   ]
  },
  {
   "cell_type": "markdown",
   "metadata": {},
   "source": [
    "Now, let's train the model:"
   ]
  },
  {
   "cell_type": "code",
   "execution_count": 18,
   "metadata": {},
   "outputs": [
    {
     "name": "stdout",
     "output_type": "stream",
     "text": [
      "Epoch [1/50], Loss: 0.2288, MAE: 0.3479, RMSE: 0.4411\n",
      "Epoch [2/50], Loss: 0.1687, MAE: 0.3089, RMSE: 0.3925\n",
      "Epoch [3/50], Loss: 0.1636, MAE: 0.3042, RMSE: 0.3862\n",
      "Epoch [4/50], Loss: 0.1583, MAE: 0.2987, RMSE: 0.3802\n",
      "Epoch [5/50], Loss: 0.1559, MAE: 0.2976, RMSE: 0.3785\n",
      "Epoch [6/50], Loss: 0.1525, MAE: 0.2944, RMSE: 0.3753\n",
      "Epoch [7/50], Loss: 0.1501, MAE: 0.2921, RMSE: 0.3705\n",
      "Epoch [8/50], Loss: 0.1474, MAE: 0.2895, RMSE: 0.3674\n",
      "Epoch [9/50], Loss: 0.1464, MAE: 0.2881, RMSE: 0.3667\n",
      "Epoch [10/50], Loss: 0.1432, MAE: 0.2861, RMSE: 0.3618\n",
      "Epoch [11/50], Loss: 0.1417, MAE: 0.2839, RMSE: 0.3607\n",
      "Epoch [12/50], Loss: 0.1404, MAE: 0.2824, RMSE: 0.3589\n",
      "Epoch [13/50], Loss: 0.1391, MAE: 0.2812, RMSE: 0.3578\n",
      "Epoch [14/50], Loss: 0.1378, MAE: 0.2802, RMSE: 0.3550\n",
      "Epoch [15/50], Loss: 0.1358, MAE: 0.2781, RMSE: 0.3536\n",
      "Epoch [16/50], Loss: 0.1360, MAE: 0.2790, RMSE: 0.3535\n",
      "Epoch [17/50], Loss: 0.1337, MAE: 0.2759, RMSE: 0.3506\n",
      "Epoch [18/50], Loss: 0.1331, MAE: 0.2764, RMSE: 0.3504\n",
      "Epoch [19/50], Loss: 0.1316, MAE: 0.2752, RMSE: 0.3487\n",
      "Epoch [20/50], Loss: 0.1314, MAE: 0.2737, RMSE: 0.3476\n",
      "Epoch [21/50], Loss: 0.1294, MAE: 0.2717, RMSE: 0.3447\n",
      "Epoch [22/50], Loss: 0.1287, MAE: 0.2706, RMSE: 0.3439\n",
      "Epoch [23/50], Loss: 0.1286, MAE: 0.2715, RMSE: 0.3439\n",
      "Epoch [24/50], Loss: 0.1272, MAE: 0.2703, RMSE: 0.3418\n",
      "Epoch [25/50], Loss: 0.1262, MAE: 0.2689, RMSE: 0.3407\n",
      "Epoch [26/50], Loss: 0.1260, MAE: 0.2684, RMSE: 0.3403\n",
      "Epoch [27/50], Loss: 0.1253, MAE: 0.2677, RMSE: 0.3396\n",
      "Epoch [28/50], Loss: 0.1235, MAE: 0.2654, RMSE: 0.3367\n",
      "Epoch [29/50], Loss: 0.1231, MAE: 0.2654, RMSE: 0.3367\n",
      "Epoch [30/50], Loss: 0.1218, MAE: 0.2641, RMSE: 0.3346\n",
      "Epoch [31/50], Loss: 0.1216, MAE: 0.2646, RMSE: 0.3350\n",
      "Epoch [32/50], Loss: 0.1216, MAE: 0.2634, RMSE: 0.3344\n",
      "Epoch [33/50], Loss: 0.1203, MAE: 0.2624, RMSE: 0.3328\n",
      "Epoch [34/50], Loss: 0.1183, MAE: 0.2602, RMSE: 0.3298\n",
      "Epoch [35/50], Loss: 0.1184, MAE: 0.2608, RMSE: 0.3310\n",
      "Epoch [36/50], Loss: 0.1178, MAE: 0.2602, RMSE: 0.3299\n",
      "Epoch [37/50], Loss: 0.1176, MAE: 0.2592, RMSE: 0.3292\n",
      "Epoch [38/50], Loss: 0.1175, MAE: 0.2585, RMSE: 0.3283\n",
      "Epoch [39/50], Loss: 0.1173, MAE: 0.2575, RMSE: 0.3288\n",
      "Epoch [40/50], Loss: 0.1156, MAE: 0.2575, RMSE: 0.3270\n",
      "Epoch [41/50], Loss: 0.1157, MAE: 0.2569, RMSE: 0.3262\n",
      "Epoch [42/50], Loss: 0.1156, MAE: 0.2566, RMSE: 0.3269\n",
      "Epoch [43/50], Loss: 0.1152, MAE: 0.2569, RMSE: 0.3259\n",
      "Epoch [44/50], Loss: 0.1148, MAE: 0.2561, RMSE: 0.3252\n",
      "Epoch [45/50], Loss: 0.1142, MAE: 0.2554, RMSE: 0.3243\n",
      "Epoch [46/50], Loss: 0.1134, MAE: 0.2535, RMSE: 0.3231\n",
      "Epoch [47/50], Loss: 0.1136, MAE: 0.2551, RMSE: 0.3238\n",
      "Epoch [48/50], Loss: 0.1121, MAE: 0.2530, RMSE: 0.3217\n",
      "Epoch [49/50], Loss: 0.1128, MAE: 0.2537, RMSE: 0.3230\n",
      "Epoch [50/50], Loss: 0.1128, MAE: 0.2536, RMSE: 0.3222\n",
      "Finished Training\n"
     ]
    }
   ],
   "source": [
    "train_losses = []\n",
    "train_maes = []\n",
    "train_rmses = []\n",
    "\n",
    "n_total_steps = len(train_loader)\n",
    "for epoch in range(num_epochs):\n",
    "    train_loss = 0.0\n",
    "    train_mae = 0.0\n",
    "    train_rmse = 0.0\n",
    "    \n",
    "    for i, (inputs, targets) in enumerate(train_loader):\n",
    "\n",
    "        inputs = inputs.to(device)\n",
    "        targets = targets.to(device)\n",
    "\n",
    "        # Forward pass\n",
    "        outputs = model(inputs)\n",
    "        loss = criterion(outputs, targets)\n",
    "\n",
    "        # Backward and optimize\n",
    "        optimizer.zero_grad()\n",
    "        loss.backward()\n",
    "        optimizer.step()\n",
    "\n",
    "        train_loss += loss.item()\n",
    "        train_mae += MAE(targets, outputs).item()\n",
    "        train_rmse += RMSE(targets, outputs).item()\n",
    "\n",
    "    avg_train_loss = train_loss / len(train_loader)\n",
    "    avg_train_mae = train_mae / len(train_loader)\n",
    "    avg_train_rmse = train_rmse / len(train_loader)\n",
    "\n",
    "    train_losses.append(avg_train_loss)\n",
    "    train_maes.append(avg_train_mae)\n",
    "    train_rmses.append(avg_train_rmse)\n",
    "\n",
    "    print (f'Epoch [{epoch+1}/{num_epochs}], Loss: {avg_train_loss:.4f}, MAE: {avg_train_mae:.4f}, RMSE: {avg_train_rmse:.4f}')\n",
    "\n",
    "print('Finished Training')\n"
   ]
  },
  {
   "cell_type": "markdown",
   "metadata": {},
   "source": [
    "I'm plotting the MAE, RMSE and the loss:"
   ]
  },
  {
   "cell_type": "code",
   "execution_count": 19,
   "metadata": {},
   "outputs": [
    {
     "data": {
      "image/png": "[encoded data removed]",
      "text/plain": [
       "<Figure size 1200x600 with 1 Axes>"
      ]
     },
     "metadata": {},
     "output_type": "display_data"
    }
   ],
   "source": [
    "plt.figure(figsize=(12, 6))\n",
    "\n",
    "# Plotting the training loss\n",
    "plt.plot(train_losses, label='Training Loss', color='blue')\n",
    "\n",
    "# Plotting the training MAE\n",
    "plt.plot(train_maes, label='Training MAE', color='red')\n",
    "\n",
    "# Plotting the training RMSE\n",
    "plt.plot(train_rmses, label='Training RMSE', color='green')\n",
    "\n",
    "plt.xlabel('Epochs')\n",
    "plt.ylabel('Value')\n",
    "plt.title('Training Metrics over Epochs')\n",
    "plt.legend()\n",
    "plt.show()\n"
   ]
  },
  {
   "cell_type": "markdown",
   "metadata": {},
   "source": [
    "Observing the plot, we can deduce that the loss decreases very quickly during the first epochs, and then it starts to slow down. Around 50 epochs, it appears to converge. The same pattern holds true for MAE and RMSE."
   ]
  },
  {
   "cell_type": "markdown",
   "metadata": {},
   "source": [
    "It's time to evaluate the model:"
   ]
  },
  {
   "cell_type": "code",
   "execution_count": 20,
   "metadata": {},
   "outputs": [
    {
     "name": "stdout",
     "output_type": "stream",
     "text": [
      "Test MAE: 0.2837, Test RMSE: 0.3647\n"
     ]
    }
   ],
   "source": [
    "test_mae = 0.0\n",
    "test_rmse = 0.0\n",
    "with torch.no_grad():\n",
    "    for inputs, targets in test_loader:\n",
    "        inputs = inputs.to(device)\n",
    "        targets = targets.to(device)\n",
    "        outputs = model(inputs)\n",
    "        \n",
    "        test_mae += MAE(targets, outputs).item()\n",
    "        test_rmse += RMSE(targets, outputs).item()\n",
    "\n",
    "avg_test_mae = test_mae / len(test_loader)\n",
    "avg_test_rmse = test_rmse / len(test_loader)\n",
    "\n",
    "print(f\"Test MAE: {avg_test_mae:.4f}, Test RMSE: {avg_test_rmse:.4f}\")\n"
   ]
  },
  {
   "cell_type": "markdown",
   "metadata": {},
   "source": [
    "The metric scores of the test set appear to be comparable to the ones of the training set. However, there is a slight indication of potential overfitting. Moving forward, the metrics obtained with this neural network are remarkably close to the ones acquired from the Random Forest (MAE = 0.28, RMSE = 0.38). This implies that the two models exhibit similar performance.\n",
    "\n",
    "The subsequent step would involve tuning the hyperparameters of this neural network to ascertain whether improved scores could be attained. Nonetheless, I believe it might be more beneficial to allocate additional time to feature engineering. This approach could potentially yield better results with less computational effort."
   ]
  }
 ],
 "metadata": {
  "kernelspec": {
   "display_name": "pytorch",
   "language": "python",
   "name": "python3"
  },
  "language_info": {
   "codemirror_mode": {
    "name": "ipython",
    "version": 3
   },
   "file_extension": ".py",
   "mimetype": "text/x-python",
   "name": "python",
   "nbconvert_exporter": "python",
   "pygments_lexer": "ipython3",
   "version": "3.10.12"
  },
  "orig_nbformat": 4
 },
 "nbformat": 4,
 "nbformat_minor": 2
}
